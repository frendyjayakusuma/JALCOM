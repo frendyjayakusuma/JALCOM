{
 "cells": [
  {
   "cell_type": "markdown",
   "metadata": {},
   "source": [
    "# Import the necessary libraries"
   ]
  },
  {
   "cell_type": "code",
   "execution_count": 61,
   "metadata": {},
   "outputs": [],
   "source": [
    "import pandas as pd\n",
    "import numpy as np\n",
    "import matplotlib.pyplot as plt\n",
    "\n",
    "from sklearn.model_selection import cross_val_score\n",
    "from sklearn.metrics import classification_report, confusion_matrix\n",
    "from sklearn.metrics import precision_score, recall_score, f1_score, make_scorer\n",
    "\n",
    "from joblib import load\n",
    "\n",
    "import seaborn as sns"
   ]
  },
  {
   "cell_type": "markdown",
   "metadata": {},
   "source": [
    "# Import train & test data"
   ]
  },
  {
   "cell_type": "code",
   "execution_count": 62,
   "metadata": {},
   "outputs": [],
   "source": [
    "# Define the undersampling method and ratio (50:50, 40:60, 70:30)\n",
    "# Options: 'RandomUnderSampler_50_50', 'ClusterCentroids_40_60', 'NearMiss_30_70', etc.\n",
    "# Example: 'RandomUnderSampler_30_70' applies RandomUnderSampler with a 30:70 direct-to-indirect ratio\n",
    "rs_type = 'NearMiss_50_50'\n",
    "\n",
    "# Load training dataset\n",
    "# X_train: Feature matrix (input variables)\n",
    "# y_train: Target labels (output variable)\n",
    "X_train = pd.read_csv('./Data/Undersampling/X_train_'+ rs_type +'.csv')\n",
    "y_train = pd.read_csv('./Data/Undersampling/y_train_' + rs_type + \".csv\")\n",
    "\n",
    "# X_test: Feature matrix for testing\n",
    "# y_test: Target labels for testing\n",
    "X_test = pd.read_csv('./Data/X_test.csv')\n",
    "y_test = pd.read_csv('./Data/y_test.csv')\n",
    "\n",
    "# Drop unecessaries columns\n",
    "X_test = X_test.drop(columns=['mp_id_bg', 'formula', 'symmetry'])"
   ]
  },
  {
   "cell_type": "code",
   "execution_count": 63,
   "metadata": {},
   "outputs": [],
   "source": [
    "# Define output filename prefix for saved results\n",
    "outname = rs_type"
   ]
  },
  {
   "cell_type": "markdown",
   "metadata": {},
   "source": [
    "# Load trained model"
   ]
  },
  {
   "cell_type": "code",
   "execution_count": 64,
   "metadata": {},
   "outputs": [],
   "source": [
    "RF = load('./Trained model/RF_'+rs_type+'.joblib') \n",
    "XGB = load('./Trained model/XGB_'+rs_type+'.joblib') "
   ]
  },
  {
   "cell_type": "markdown",
   "metadata": {},
   "source": [
    "## RF classification report"
   ]
  },
  {
   "cell_type": "code",
   "execution_count": 65,
   "metadata": {},
   "outputs": [
    {
     "name": "stdout",
     "output_type": "stream",
     "text": [
      "RF\n",
      "Cross Validation Scores: [0.75806452 0.87906977 0.83568075 0.83333333 0.80962801]\n",
      "Mean CV F1: 0.823155275366134\n",
      "TEST!\n",
      "              precision    recall  f1-score   support\n",
      "\n",
      "       False       0.93      0.52      0.67       840\n",
      "        True       0.38      0.88      0.53       274\n",
      "\n",
      "    accuracy                           0.61      1114\n",
      "   macro avg       0.65      0.70      0.60      1114\n",
      "weighted avg       0.79      0.61      0.63      1114\n",
      "\n"
     ]
    }
   ],
   "source": [
    "print('RF')\n",
    "\n",
    "# Retrieve the best cross-validation F1-score from the trained RF model\n",
    "f1_scorer = make_scorer(f1_score)\n",
    "cv_rf = cross_val_score(RF, X_train, y_train.values.ravel(), cv=5, n_jobs=-1, scoring=f1_scorer)\n",
    "\n",
    "print(\"Cross Validation Scores:\", cv_rf)\n",
    "print(\"Mean CV F1:\", cv_rf.mean())\n",
    "\n",
    "# Make predictions on test data\n",
    "y_pred_rf = RF.predict(X_test)\n",
    "\n",
    "# Make predictions on test data\n",
    "print('TEST!')\n",
    "print(classification_report(y_test, y_pred_rf))"
   ]
  },
  {
   "cell_type": "markdown",
   "metadata": {},
   "source": [
    "## XGB classification report"
   ]
  },
  {
   "cell_type": "code",
   "execution_count": 66,
   "metadata": {},
   "outputs": [
    {
     "name": "stdout",
     "output_type": "stream",
     "text": [
      "XGB\n",
      "Cross Validation Scores: [0.7505071  0.87414188 0.83886256 0.81304348 0.81497797]\n",
      "Mean CV F1: 0.8183065973785089\n",
      "TEST!\n",
      "              precision    recall  f1-score   support\n",
      "\n",
      "       False       0.92      0.52      0.66       840\n",
      "        True       0.37      0.86      0.51       274\n",
      "\n",
      "    accuracy                           0.60      1114\n",
      "   macro avg       0.64      0.69      0.59      1114\n",
      "weighted avg       0.78      0.60      0.62      1114\n",
      "\n"
     ]
    }
   ],
   "source": [
    "print('XGB')\n",
    "\n",
    "# Retrieve the best cross-validation F1-score from the trained XGB model\n",
    "f1_scorer = make_scorer(f1_score)\n",
    "cv_xgb = cross_val_score(XGB, X_train, y_train.values.ravel(), cv=5, n_jobs=-1, scoring=f1_scorer)\n",
    "\n",
    "print(\"Cross Validation Scores:\", cv_xgb)\n",
    "print(\"Mean CV F1:\", cv_xgb.mean())\n",
    "\n",
    "# Make predictions on test data\n",
    "y_pred_xgb = XGB.predict(X_test)\n",
    "\n",
    "# Print classification report for XGB\n",
    "print('TEST!')\n",
    "print(classification_report(y_test, y_pred_xgb))"
   ]
  },
  {
   "cell_type": "markdown",
   "metadata": {},
   "source": [
    "# Evaluation"
   ]
  },
  {
   "cell_type": "code",
   "execution_count": 67,
   "metadata": {},
   "outputs": [],
   "source": [
    "# Function to evaluate model performance using precision, recall, and F1-score\n",
    "def eval_score(y_test, y_pred):\n",
    "\n",
    "    precision_avg = precision_score(y_test, y_pred)\n",
    "    recall_avg = recall_score(y_test, y_pred)\n",
    "    f1_avg = f1_score(y_test, y_pred)\n",
    "    return precision_avg, recall_avg, f1_avg"
   ]
  },
  {
   "cell_type": "code",
   "execution_count": 68,
   "metadata": {},
   "outputs": [
    {
     "data": {
      "text/html": [
       "<div>\n",
       "<style scoped>\n",
       "    .dataframe tbody tr th:only-of-type {\n",
       "        vertical-align: middle;\n",
       "    }\n",
       "\n",
       "    .dataframe tbody tr th {\n",
       "        vertical-align: top;\n",
       "    }\n",
       "\n",
       "    .dataframe thead th {\n",
       "        text-align: right;\n",
       "    }\n",
       "</style>\n",
       "<table border=\"1\" class=\"dataframe\">\n",
       "  <thead>\n",
       "    <tr style=\"text-align: right;\">\n",
       "      <th></th>\n",
       "      <th>Metrics</th>\n",
       "      <th>RF</th>\n",
       "      <th>XGB</th>\n",
       "    </tr>\n",
       "  </thead>\n",
       "  <tbody>\n",
       "    <tr>\n",
       "      <th>0</th>\n",
       "      <td>CV</td>\n",
       "      <td>0.823155</td>\n",
       "      <td>0.818307</td>\n",
       "    </tr>\n",
       "    <tr>\n",
       "      <th>0</th>\n",
       "      <td>Precission</td>\n",
       "      <td>0.375389</td>\n",
       "      <td>0.367030</td>\n",
       "    </tr>\n",
       "    <tr>\n",
       "      <th>1</th>\n",
       "      <td>Recall</td>\n",
       "      <td>0.879562</td>\n",
       "      <td>0.861314</td>\n",
       "    </tr>\n",
       "    <tr>\n",
       "      <th>2</th>\n",
       "      <td>F1</td>\n",
       "      <td>0.526201</td>\n",
       "      <td>0.514722</td>\n",
       "    </tr>\n",
       "  </tbody>\n",
       "</table>\n",
       "</div>"
      ],
      "text/plain": [
       "      Metrics        RF       XGB\n",
       "0          CV  0.823155  0.818307\n",
       "0  Precission  0.375389  0.367030\n",
       "1      Recall  0.879562  0.861314\n",
       "2          F1  0.526201  0.514722"
      ]
     },
     "execution_count": 68,
     "metadata": {},
     "output_type": "execute_result"
    }
   ],
   "source": [
    "# Store cross-validation results\n",
    "df_cv = pd.DataFrame({'Metrics':'CV', 'RF':cv_rf.mean(), \n",
    "                      'XGB':cv_xgb.mean()}, index=[0])\n",
    "\n",
    "# Compute test set evaluation metrics for both models\n",
    "rf_score = eval_score(y_test, y_pred_rf)\n",
    "xgb_score = eval_score(y_test, y_pred_xgb)\n",
    "\n",
    "# Create a DataFrame to store precision, recall, and F1-score for both models\n",
    "metrics_name = ['Precission', 'Recall', 'F1']\n",
    "df_score = pd.DataFrame({'Metrics':metrics_name, 'RF':rf_score, 'XGB':xgb_score})\n",
    "\n",
    "# Combine cross-validation and test evaluation results\n",
    "df_eval = pd.concat([df_cv,df_score])\n",
    "\n",
    "df_eval.to_csv('./Result/Eval_'+ rs_type + '.csv', index=False)\n",
    "df_eval"
   ]
  },
  {
   "cell_type": "markdown",
   "metadata": {},
   "source": [
    "## Plot confusion matrix"
   ]
  },
  {
   "cell_type": "markdown",
   "metadata": {},
   "source": [
    "### RF"
   ]
  },
  {
   "cell_type": "code",
   "execution_count": 69,
   "metadata": {},
   "outputs": [
    {
     "data": {
      "image/png": "[encoded data removed]",
      "text/plain": [
       "<Figure size 640x480 with 2 Axes>"
      ]
     },
     "metadata": {},
     "output_type": "display_data"
    }
   ],
   "source": [
    "# Plot confusion matrix for RF\n",
    "cm_rf =sns.heatmap(confusion_matrix(y_test, y_pred_rf, labels=[True,False]),cmap='YlGnBu',\n",
    "                      fmt = '.0f', \n",
    "                      annot=True, annot_kws={\"size\": 16},\n",
    "                      xticklabels=['Predicted direct','Predicted indirect'],\n",
    "                      yticklabels=['True direct','True indirect'])\n",
    "\n",
    "# Save confusion matrix for RF\n",
    "plt.savefig('./Result/'+ outname +'_cm_rf.png', dpi=300)\n",
    "plt.show()"
   ]
  },
  {
   "cell_type": "markdown",
   "metadata": {},
   "source": [
    "### XGB"
   ]
  },
  {
   "cell_type": "code",
   "execution_count": 70,
   "metadata": {},
   "outputs": [
    {
     "data": {
      "image/png": "[encoded data removed]",
      "text/plain": [
       "<Figure size 640x480 with 2 Axes>"
      ]
     },
     "metadata": {},
     "output_type": "display_data"
    }
   ],
   "source": [
    "# Plot confusion matrix for XGB\n",
    "cm_xgb =sns.heatmap(confusion_matrix(y_test, y_pred_xgb, labels=[True,False]),cmap='YlGnBu',\n",
    "                      fmt = '.0f', \n",
    "                      annot=True, annot_kws={\"size\": 16},\n",
    "                      xticklabels=['Predicted direct','Predicted indirect'],\n",
    "                      yticklabels=['True direct','True indirect'])\n",
    "\n",
    "# Save confusion matrix for XGB\n",
    "plt.savefig('./Result/'+ outname +'_cm_xgb.png', dpi=300)\n",
    "plt.show()"
   ]
  }
 ],
 "metadata": {
  "kernelspec": {
   "display_name": "Python 3",
   "language": "python",
   "name": "python3"
  },
  "language_info": {
   "codemirror_mode": {
    "name": "ipython",
    "version": 3
   },
   "file_extension": ".py",
   "mimetype": "text/x-python",
   "name": "python",
   "nbconvert_exporter": "python",
   "pygments_lexer": "ipython3",
   "version": "3.11.4"
  }
 },
 "nbformat": 4,
 "nbformat_minor": 2
}
