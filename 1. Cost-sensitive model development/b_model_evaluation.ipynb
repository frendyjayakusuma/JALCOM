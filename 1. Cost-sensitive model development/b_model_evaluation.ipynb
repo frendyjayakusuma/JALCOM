{
 "cells": [
  {
   "cell_type": "markdown",
   "metadata": {},
   "source": [
    "# Import the necessary libraries"
   ]
  },
  {
   "cell_type": "code",
   "execution_count": 12,
   "metadata": {},
   "outputs": [],
   "source": [
    "import pandas as pd\n",
    "import numpy as np\n",
    "import matplotlib.pyplot as plt\n",
    "\n",
    "from sklearn.model_selection import cross_val_score\n",
    "from sklearn.metrics import classification_report, confusion_matrix\n",
    "from sklearn.metrics import precision_score, recall_score, f1_score, make_scorer\n",
    "\n",
    "from joblib import load\n",
    "\n",
    "import seaborn as sns"
   ]
  },
  {
   "cell_type": "markdown",
   "metadata": {},
   "source": [
    "# Import train & test data"
   ]
  },
  {
   "cell_type": "code",
   "execution_count": 13,
   "metadata": {},
   "outputs": [],
   "source": [
    "# Load Training and Testing Data\n",
    "\n",
    "# X_train: Feature matrix for training\n",
    "# y_train: Target labels for training\n",
    "X_train = pd.read_csv('./Data/X_train.csv')\n",
    "y_train = pd.read_csv('./Data/y_train.csv')\n",
    "\n",
    "# X_test: Feature matrix for testing\n",
    "# y_test: Target labels for testing\n",
    "X_test = pd.read_csv('./Data/X_test.csv')\n",
    "y_test = pd.read_csv('./Data/y_test.csv')\n"
   ]
  },
  {
   "cell_type": "code",
   "execution_count": 14,
   "metadata": {},
   "outputs": [],
   "source": [
    "# Drop unnecessary columns that are not used in model trainingumn\n",
    "X_train = X_train.drop(columns=['mp_id_bg', 'formula', 'symmetry'])\n",
    "X_test = X_test.drop(columns=['mp_id_bg', 'formula', 'symmetry'])"
   ]
  },
  {
   "cell_type": "code",
   "execution_count": 15,
   "metadata": {},
   "outputs": [],
   "source": [
    "# Define output filename prefix for saved results\n",
    "outname = 'cost_sensitive'"
   ]
  },
  {
   "cell_type": "markdown",
   "metadata": {},
   "source": [
    "# Load trained model"
   ]
  },
  {
   "cell_type": "code",
   "execution_count": 16,
   "metadata": {},
   "outputs": [],
   "source": [
    "# Load cost-sensitive Random Forest model\n",
    "cs_rf = load('./Trained model/CS_RF.joblib') \n",
    "# Load cost-sensitive XGBoost model\n",
    "cs_xgb = load('./Trained model/CS_XGB.joblib') "
   ]
  },
  {
   "cell_type": "markdown",
   "metadata": {},
   "source": [
    "## CS-RF classification report"
   ]
  },
  {
   "cell_type": "code",
   "execution_count": 17,
   "metadata": {},
   "outputs": [
    {
     "name": "stdout",
     "output_type": "stream",
     "text": [
      "CS-RF\n",
      "CV :  0.7543324268448991\n",
      "TEST!\n",
      "              precision    recall  f1-score   support\n",
      "\n",
      "       False       0.92      0.95      0.94       840\n",
      "        True       0.83      0.76      0.79       274\n",
      "\n",
      "    accuracy                           0.90      1114\n",
      "   macro avg       0.88      0.85      0.86      1114\n",
      "weighted avg       0.90      0.90      0.90      1114\n",
      "\n"
     ]
    }
   ],
   "source": [
    "print('CS-RF')\n",
    "\n",
    "# Retrieve the best cross-validation F1-score from the trained CS-RF model\n",
    "cv_rf = cs_rf.best_score_\n",
    "print('CV : ', cv_rf)\n",
    "\n",
    "# Make predictions on test data\n",
    "y_pred_rf = cs_rf.predict(X_test)\n",
    "\n",
    "# Make predictions on test data\n",
    "print('TEST!')\n",
    "print(classification_report(y_test, y_pred_rf))"
   ]
  },
  {
   "cell_type": "markdown",
   "metadata": {},
   "source": [
    "## CS-XGB classification report"
   ]
  },
  {
   "cell_type": "code",
   "execution_count": 18,
   "metadata": {},
   "outputs": [
    {
     "name": "stdout",
     "output_type": "stream",
     "text": [
      "CS-XGB\n",
      "CV :  0.7543324268448991\n",
      "TEST!\n",
      "              precision    recall  f1-score   support\n",
      "\n",
      "       False       0.93      0.95      0.94       840\n",
      "        True       0.85      0.76      0.80       274\n",
      "\n",
      "    accuracy                           0.91      1114\n",
      "   macro avg       0.89      0.86      0.87      1114\n",
      "weighted avg       0.91      0.91      0.91      1114\n",
      "\n"
     ]
    }
   ],
   "source": [
    "print('CS-XGB')\n",
    "\n",
    "# Retrieve the best cross-validation F1-score from the trained CS-XGB model\n",
    "cv_xgb = cs_rf.best_score_\n",
    "print('CV : ', cv_xgb)\n",
    "\n",
    "# Make predictions on test data\n",
    "y_pred_xgb = cs_xgb.predict(X_test)\n",
    "\n",
    "# Print classification report for CS-XGB\n",
    "print('TEST!')\n",
    "print(classification_report(y_test, y_pred_xgb))"
   ]
  },
  {
   "cell_type": "markdown",
   "metadata": {},
   "source": [
    "# Evaluation"
   ]
  },
  {
   "cell_type": "code",
   "execution_count": 19,
   "metadata": {},
   "outputs": [],
   "source": [
    "# Function to evaluate model performance using precision, recall, and F1-score\n",
    "def eval_score(y_test, y_pred):\n",
    "\n",
    "    precision_avg = precision_score(y_test, y_pred)\n",
    "    recall_avg = recall_score(y_test, y_pred)\n",
    "    f1_avg = f1_score(y_test, y_pred)\n",
    "    return precision_avg, recall_avg, f1_avg"
   ]
  },
  {
   "cell_type": "code",
   "execution_count": 20,
   "metadata": {},
   "outputs": [
    {
     "data": {
      "text/html": [
       "<div>\n",
       "<style scoped>\n",
       "    .dataframe tbody tr th:only-of-type {\n",
       "        vertical-align: middle;\n",
       "    }\n",
       "\n",
       "    .dataframe tbody tr th {\n",
       "        vertical-align: top;\n",
       "    }\n",
       "\n",
       "    .dataframe thead th {\n",
       "        text-align: right;\n",
       "    }\n",
       "</style>\n",
       "<table border=\"1\" class=\"dataframe\">\n",
       "  <thead>\n",
       "    <tr style=\"text-align: right;\">\n",
       "      <th></th>\n",
       "      <th>Metrics</th>\n",
       "      <th>RF</th>\n",
       "      <th>XGB</th>\n",
       "    </tr>\n",
       "  </thead>\n",
       "  <tbody>\n",
       "    <tr>\n",
       "      <th>0</th>\n",
       "      <td>CV</td>\n",
       "      <td>0.754332</td>\n",
       "      <td>0.754332</td>\n",
       "    </tr>\n",
       "    <tr>\n",
       "      <th>0</th>\n",
       "      <td>Precission</td>\n",
       "      <td>0.828000</td>\n",
       "      <td>0.846154</td>\n",
       "    </tr>\n",
       "    <tr>\n",
       "      <th>1</th>\n",
       "      <td>Recall</td>\n",
       "      <td>0.755474</td>\n",
       "      <td>0.762774</td>\n",
       "    </tr>\n",
       "    <tr>\n",
       "      <th>2</th>\n",
       "      <td>F1</td>\n",
       "      <td>0.790076</td>\n",
       "      <td>0.802303</td>\n",
       "    </tr>\n",
       "  </tbody>\n",
       "</table>\n",
       "</div>"
      ],
      "text/plain": [
       "      Metrics        RF       XGB\n",
       "0          CV  0.754332  0.754332\n",
       "0  Precission  0.828000  0.846154\n",
       "1      Recall  0.755474  0.762774\n",
       "2          F1  0.790076  0.802303"
      ]
     },
     "execution_count": 20,
     "metadata": {},
     "output_type": "execute_result"
    }
   ],
   "source": [
    "# Store cross-validation results\n",
    "df_cv = pd.DataFrame({'Metrics':'CV', 'RF':cv_rf, \n",
    "                      'XGB':cv_xgb}, index=[0])\n",
    "\n",
    "# Compute test set evaluation metrics for both models\n",
    "rf_score = eval_score(y_test, y_pred_rf)\n",
    "xgb_score = eval_score(y_test, y_pred_xgb)\n",
    "\n",
    "# Create a DataFrame to store precision, recall, and F1-score for both models\n",
    "metrics_name = ['Precission', 'Recall', 'F1']\n",
    "df_score = pd.DataFrame({'Metrics':metrics_name, 'RF':rf_score, 'XGB':xgb_score})\n",
    "\n",
    "# Combine cross-validation and test evaluation results\n",
    "df_eval = pd.concat([df_cv,df_score])\n",
    "\n",
    "# Save evaluation results to CSV\n",
    "df_eval.to_csv('./Result/Eval.csv', index=False)\n",
    "df_eval"
   ]
  },
  {
   "cell_type": "markdown",
   "metadata": {},
   "source": [
    "# Generate Confusion Matrices"
   ]
  },
  {
   "cell_type": "markdown",
   "metadata": {},
   "source": [
    "## CS-RF"
   ]
  },
  {
   "cell_type": "code",
   "execution_count": 21,
   "metadata": {},
   "outputs": [
    {
     "data": {
      "image/png": "[encoded data removed]",
      "text/plain": [
       "<Figure size 640x480 with 2 Axes>"
      ]
     },
     "metadata": {},
     "output_type": "display_data"
    }
   ],
   "source": [
    "# Plot confusion matrix for CS-RF\n",
    "cm_rf =sns.heatmap(confusion_matrix(y_test, y_pred_rf, labels=[True,False]),cmap='YlGnBu',\n",
    "                      fmt = '.0f', \n",
    "                      annot=True, annot_kws={\"size\": 16},\n",
    "                      xticklabels=['Predicted direct','Predicted indirect'],\n",
    "                      yticklabels=['True direct','True indirect'])\n",
    "\n",
    "# Save confusion matrix for CS-RF\n",
    "plt.savefig('./Result/'+ outname +'_cm_rf.png', dpi=300)\n",
    "plt.show()"
   ]
  },
  {
   "cell_type": "code",
   "execution_count": 22,
   "metadata": {},
   "outputs": [
    {
     "data": {
      "image/png": "[encoded data removed]",
      "text/plain": [
       "<Figure size 640x480 with 2 Axes>"
      ]
     },
     "metadata": {},
     "output_type": "display_data"
    }
   ],
   "source": [
    "# Plot confusion matrix for CS-XGB\n",
    "cm_xgb =sns.heatmap(confusion_matrix(y_test, y_pred_xgb, labels=[True,False]),cmap='YlGnBu',\n",
    "                      fmt = '.0f', \n",
    "                      annot=True, annot_kws={\"size\": 16},\n",
    "                      xticklabels=['Predicted direct','Predicted indirect'],\n",
    "                      yticklabels=['True direct','True indirect'])\n",
    "\n",
    "# Save confusion matrix for CS-XGB\n",
    "plt.savefig('./Result/'+ outname +'_cm_xgb.png', dpi=300)\n",
    "plt.show()"
   ]
  }
 ],
 "metadata": {
  "kernelspec": {
   "display_name": "Python 3",
   "language": "python",
   "name": "python3"
  },
  "language_info": {
   "codemirror_mode": {
    "name": "ipython",
    "version": 3
   },
   "file_extension": ".py",
   "mimetype": "text/x-python",
   "name": "python",
   "nbconvert_exporter": "python",
   "pygments_lexer": "ipython3",
   "version": "3.11.4"
  }
 },
 "nbformat": 4,
 "nbformat_minor": 2
}
