{
 "cells": [
  {
   "cell_type": "markdown",
   "metadata": {},
   "source": [
    "# Import the necessary libraries"
   ]
  },
  {
   "cell_type": "code",
   "execution_count": 141,
   "metadata": {},
   "outputs": [],
   "source": [
    "import pandas as pd\n",
    "import numpy as np\n",
    "import matplotlib.pyplot as plt\n",
    "\n",
    "from sklearn.model_selection import cross_val_score\n",
    "from sklearn.metrics import classification_report, confusion_matrix\n",
    "from sklearn.metrics import precision_score, recall_score, f1_score, make_scorer\n",
    "\n",
    "from joblib import load\n",
    "\n",
    "import seaborn as sns"
   ]
  },
  {
   "cell_type": "markdown",
   "metadata": {},
   "source": [
    "# Import train & test data"
   ]
  },
  {
   "cell_type": "code",
   "execution_count": 142,
   "metadata": {},
   "outputs": [],
   "source": [
    "# Define the oversampling method (ros, smote, adasyn) method and ratio (50:50, 40:60, 70:30)\n",
    "# Example: 'smote_30_70' applies SMOTE with a 30:70 direct-to-indirect ratio\n",
    "rs_type = 'ros_30_70'\n",
    "\n",
    "# X_train: Feature matrix for training\n",
    "# y_train: Target labels for training\n",
    "X_train = pd.read_csv('./Data/Oversampling/X_train_'+ rs_type +'.csv')\n",
    "y_train = pd.read_csv('./Data/Oversampling/y_train_' + rs_type + \".csv\")\n",
    "\n",
    "# X_test: Feature matrix for testing\n",
    "# y_test: Target labels for testing\n",
    "X_test = pd.read_csv('./Data/X_test.csv')\n",
    "y_test = pd.read_csv('./Data/y_test.csv')\n",
    "\n",
    "# Drop unecessaries columns\n",
    "X_test = X_test.drop(columns=['mp_id_bg', 'formula', 'symmetry'])"
   ]
  },
  {
   "cell_type": "code",
   "execution_count": 143,
   "metadata": {},
   "outputs": [],
   "source": [
    "# Define output filename prefix for saved results\n",
    "outname = rs_type"
   ]
  },
  {
   "cell_type": "markdown",
   "metadata": {},
   "source": [
    "# Load trained model"
   ]
  },
  {
   "cell_type": "code",
   "execution_count": 144,
   "metadata": {},
   "outputs": [],
   "source": [
    "RF = load('./Trained model/RF_'+rs_type+'.joblib') \n",
    "XGB = load('./Trained model/XGB_'+rs_type+'.joblib') "
   ]
  },
  {
   "cell_type": "markdown",
   "metadata": {},
   "source": [
    "## RF classification report"
   ]
  },
  {
   "cell_type": "code",
   "execution_count": 145,
   "metadata": {},
   "outputs": [
    {
     "name": "stdout",
     "output_type": "stream",
     "text": [
      "RF\n",
      "Cross Validation Scores: [0.82011605 0.78225806 0.80916031 0.79166667 0.9527027 ]\n",
      "Mean CV F1: 0.8311807586775235\n",
      "TEST!\n",
      "              precision    recall  f1-score   support\n",
      "\n",
      "       False       0.91      0.97      0.93       840\n",
      "        True       0.87      0.69      0.77       274\n",
      "\n",
      "    accuracy                           0.90      1114\n",
      "   macro avg       0.89      0.83      0.85      1114\n",
      "weighted avg       0.90      0.90      0.89      1114\n",
      "\n"
     ]
    }
   ],
   "source": [
    "print('RF')\n",
    "\n",
    "# Retrieve the best cross-validation F1-score from the trained RF model\n",
    "f1_scorer = make_scorer(f1_score)\n",
    "cv_rf = cross_val_score(RF, X_train, y_train.values.ravel(), cv=5, n_jobs=-1, scoring=f1_scorer)\n",
    "\n",
    "print(\"Cross Validation Scores:\", cv_rf)\n",
    "print(\"Mean CV F1:\", cv_rf.mean())\n",
    "\n",
    "# Make predictions on test data\n",
    "y_pred_rf = RF.predict(X_test)\n",
    "\n",
    "# Make predictions on test data\n",
    "print('TEST!')\n",
    "print(classification_report(y_test, y_pred_rf))"
   ]
  },
  {
   "cell_type": "markdown",
   "metadata": {},
   "source": [
    "## XGB classification report"
   ]
  },
  {
   "cell_type": "code",
   "execution_count": 146,
   "metadata": {},
   "outputs": [
    {
     "name": "stdout",
     "output_type": "stream",
     "text": [
      "XGB\n",
      "Cross Validation Scores: [0.83969466 0.78823529 0.79924242 0.791587   0.94949495]\n",
      "Mean CV F1: 0.8336508644863049\n",
      "TEST!\n",
      "              precision    recall  f1-score   support\n",
      "\n",
      "       False       0.91      0.96      0.93       840\n",
      "        True       0.85      0.71      0.77       274\n",
      "\n",
      "    accuracy                           0.90      1114\n",
      "   macro avg       0.88      0.83      0.85      1114\n",
      "weighted avg       0.89      0.90      0.89      1114\n",
      "\n"
     ]
    }
   ],
   "source": [
    "print('XGB')\n",
    "\n",
    "# Retrieve the best cross-validation F1-score from the trained XGB model\n",
    "f1_scorer = make_scorer(f1_score)\n",
    "cv_xgb = cross_val_score(XGB, X_train, y_train.values.ravel(), cv=5, n_jobs=-1, scoring=f1_scorer)\n",
    "\n",
    "print(\"Cross Validation Scores:\", cv_xgb)\n",
    "print(\"Mean CV F1:\", cv_xgb.mean())\n",
    "\n",
    "# Make predictions on test data\n",
    "y_pred_xgb = XGB.predict(X_test)\n",
    "\n",
    "# Print classification report for XGB\n",
    "print('TEST!')\n",
    "print(classification_report(y_test, y_pred_xgb))"
   ]
  },
  {
   "cell_type": "markdown",
   "metadata": {},
   "source": [
    "# Evaluation"
   ]
  },
  {
   "cell_type": "code",
   "execution_count": 147,
   "metadata": {},
   "outputs": [],
   "source": [
    "# Function to evaluate model performance using precision, recall, and F1-score\n",
    "def eval_score(y_test, y_pred):\n",
    "\n",
    "    precision_avg = precision_score(y_test, y_pred)\n",
    "    recall_avg = recall_score(y_test, y_pred)\n",
    "    f1_avg = f1_score(y_test, y_pred)\n",
    "    return precision_avg, recall_avg, f1_avg"
   ]
  },
  {
   "cell_type": "code",
   "execution_count": 148,
   "metadata": {},
   "outputs": [
    {
     "data": {
      "text/html": [
       "<div>\n",
       "<style scoped>\n",
       "    .dataframe tbody tr th:only-of-type {\n",
       "        vertical-align: middle;\n",
       "    }\n",
       "\n",
       "    .dataframe tbody tr th {\n",
       "        vertical-align: top;\n",
       "    }\n",
       "\n",
       "    .dataframe thead th {\n",
       "        text-align: right;\n",
       "    }\n",
       "</style>\n",
       "<table border=\"1\" class=\"dataframe\">\n",
       "  <thead>\n",
       "    <tr style=\"text-align: right;\">\n",
       "      <th></th>\n",
       "      <th>Metrics</th>\n",
       "      <th>RF</th>\n",
       "      <th>XGB</th>\n",
       "    </tr>\n",
       "  </thead>\n",
       "  <tbody>\n",
       "    <tr>\n",
       "      <th>0</th>\n",
       "      <td>CV</td>\n",
       "      <td>0.831181</td>\n",
       "      <td>0.833651</td>\n",
       "    </tr>\n",
       "    <tr>\n",
       "      <th>0</th>\n",
       "      <td>Precission</td>\n",
       "      <td>0.867580</td>\n",
       "      <td>0.847162</td>\n",
       "    </tr>\n",
       "    <tr>\n",
       "      <th>1</th>\n",
       "      <td>Recall</td>\n",
       "      <td>0.693431</td>\n",
       "      <td>0.708029</td>\n",
       "    </tr>\n",
       "    <tr>\n",
       "      <th>2</th>\n",
       "      <td>F1</td>\n",
       "      <td>0.770791</td>\n",
       "      <td>0.771372</td>\n",
       "    </tr>\n",
       "  </tbody>\n",
       "</table>\n",
       "</div>"
      ],
      "text/plain": [
       "      Metrics        RF       XGB\n",
       "0          CV  0.831181  0.833651\n",
       "0  Precission  0.867580  0.847162\n",
       "1      Recall  0.693431  0.708029\n",
       "2          F1  0.770791  0.771372"
      ]
     },
     "execution_count": 148,
     "metadata": {},
     "output_type": "execute_result"
    }
   ],
   "source": [
    "# Store cross-validation results\n",
    "df_cv = pd.DataFrame({'Metrics':'CV', 'RF':cv_rf.mean(), \n",
    "                      'XGB':cv_xgb.mean()}, index=[0])\n",
    "\n",
    "# Compute test set evaluation metrics for both models\n",
    "rf_score = eval_score(y_test, y_pred_rf)\n",
    "xgb_score = eval_score(y_test, y_pred_xgb)\n",
    "\n",
    "# Create a DataFrame to store precision, recall, and F1-score for both models\n",
    "metrics_name = ['Precission', 'Recall', 'F1']\n",
    "df_score = pd.DataFrame({'Metrics':metrics_name, 'RF':rf_score, 'XGB':xgb_score})\n",
    "\n",
    "# Combine cross-validation and test evaluation results\n",
    "df_eval = pd.concat([df_cv,df_score])\n",
    "\n",
    "df_eval.to_csv('./Result/Eval_'+ rs_type + '.csv', index=False)\n",
    "df_eval"
   ]
  },
  {
   "cell_type": "markdown",
   "metadata": {},
   "source": [
    "## Plot confusion matrix"
   ]
  },
  {
   "cell_type": "markdown",
   "metadata": {},
   "source": [
    "### RF"
   ]
  },
  {
   "cell_type": "code",
   "execution_count": 149,
   "metadata": {},
   "outputs": [
    {
     "data": {
      "image/png": "[encoded data removed]",
      "text/plain": [
       "<Figure size 640x480 with 2 Axes>"
      ]
     },
     "metadata": {},
     "output_type": "display_data"
    }
   ],
   "source": [
    "# Plot confusion matrix for RF\n",
    "cm_rf =sns.heatmap(confusion_matrix(y_test, y_pred_rf, labels=[True,False]),cmap='YlGnBu',\n",
    "                      fmt = '.0f', \n",
    "                      annot=True, annot_kws={\"size\": 16},\n",
    "                      xticklabels=['Predicted direct','Predicted indirect'],\n",
    "                      yticklabels=['True direct','True indirect'])\n",
    "\n",
    "# Save confusion matrix for RF\n",
    "plt.savefig('./Result/'+ outname +'_cm_rf.png', dpi=300)\n",
    "plt.show()"
   ]
  },
  {
   "cell_type": "markdown",
   "metadata": {},
   "source": [
    "### XGB"
   ]
  },
  {
   "cell_type": "code",
   "execution_count": 150,
   "metadata": {},
   "outputs": [
    {
     "data": {
      "image/png": "[encoded data removed]",
      "text/plain": [
       "<Figure size 640x480 with 2 Axes>"
      ]
     },
     "metadata": {},
     "output_type": "display_data"
    }
   ],
   "source": [
    "# Plot confusion matrix for XGB\n",
    "cm_xgb =sns.heatmap(confusion_matrix(y_test, y_pred_xgb, labels=[True,False]),cmap='YlGnBu',\n",
    "                      fmt = '.0f', \n",
    "                      annot=True, annot_kws={\"size\": 16},\n",
    "                      xticklabels=['Predicted direct','Predicted indirect'],\n",
    "                      yticklabels=['True direct','True indirect'])\n",
    "\n",
    "# Save confusion matrix for XGB\n",
    "plt.savefig('./Result/'+ outname +'_cm_xgb.png', dpi=300)\n",
    "plt.show()"
   ]
  }
 ],
 "metadata": {
  "kernelspec": {
   "display_name": "Python 3",
   "language": "python",
   "name": "python3"
  },
  "language_info": {
   "codemirror_mode": {
    "name": "ipython",
    "version": 3
   },
   "file_extension": ".py",
   "mimetype": "text/x-python",
   "name": "python",
   "nbconvert_exporter": "python",
   "pygments_lexer": "ipython3",
   "version": "3.11.4"
  }
 },
 "nbformat": 4,
 "nbformat_minor": 2
}
